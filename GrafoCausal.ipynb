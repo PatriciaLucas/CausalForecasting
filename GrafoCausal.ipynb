{
  "nbformat": 4,
  "nbformat_minor": 0,
  "metadata": {
    "colab": {
      "provenance": [],
      "authorship_tag": "ABX9TyPf2ifkxeJtv4qzl1PiB92b",
      "include_colab_link": true
    },
    "kernelspec": {
      "name": "python3",
      "display_name": "Python 3"
    },
    "language_info": {
      "name": "python"
    }
  },
  "cells": [
    {
      "cell_type": "markdown",
      "metadata": {
        "id": "view-in-github",
        "colab_type": "text"
      },
      "source": [
        "<a href=\"https://colab.research.google.com/github/PatriciaLucas/CausalForecasting/blob/main/GrafoCausal.ipynb\" target=\"_parent\"><img src=\"https://colab.research.google.com/assets/colab-badge.svg\" alt=\"Open In Colab\"/></a>"
      ]
    },
    {
      "cell_type": "markdown",
      "source": [
        "#Geração de grafo causal para séries temporais multivariadas\n",
        "\n",
        "```\n",
        "Universidade Federal de Minas Gerais - UFMG\n",
        "Disciplina: Causalidade em Aprendizado de Máquina (DCC)\n",
        "Projeto Final: Modelo Causal para Previsão de Séries Temporais Multivariadas\n",
        "Professor: Anísio Mendes Lacerda\n",
        "```"
      ],
      "metadata": {
        "id": "bb_qTb80enLO"
      }
    },
    {
      "cell_type": "markdown",
      "source": [
        "###Instalação e importação de pacotes"
      ],
      "metadata": {
        "id": "W0rMS3Oiezkm"
      }
    },
    {
      "cell_type": "code",
      "source": [
        "!pip install -qU git+https://github.com/stbachinger/TigramiteGui.git"
      ],
      "metadata": {
        "id": "eqBd6_-RGJbt"
      },
      "execution_count": null,
      "outputs": []
    },
    {
      "cell_type": "code",
      "execution_count": null,
      "metadata": {
        "colab": {
          "base_uri": "https://localhost:8080/"
        },
        "id": "aaGLkFqLEy8L",
        "outputId": "3b676383-3d2b-422c-d18c-67e3f455caeb"
      },
      "outputs": [
        {
          "output_type": "stream",
          "name": "stderr",
          "text": [
            "/usr/local/lib/python3.7/dist-packages/tigramite/independence_tests/gpdc.py:16: UserWarning: No module named 'dcor'\n",
            "  warnings.warn(str(e))\n",
            "/usr/local/lib/python3.7/dist-packages/tigramite/independence_tests/gpdc_torch.py:18: UserWarning: No module named 'dcor'\n",
            "  warnings.warn(str(e))\n"
          ]
        }
      ],
      "source": [
        "# Imports\n",
        "import numpy as np\n",
        "import matplotlib\n",
        "from matplotlib import pyplot as plt\n",
        "import pandas as pd\n",
        "%matplotlib inline     \n",
        "## use `%matplotlib notebook` for interactive figures\n",
        "# plt.style.use('ggplot')\n",
        "import sklearn\n",
        "from sklearn.neighbors import KNeighborsRegressor\n",
        "from sklearn.gaussian_process import GaussianProcessRegressor\n",
        "import tigramite\n",
        "from tigramite import data_processing as pp\n",
        "from tigramite.toymodels import structural_causal_processes as toys\n",
        "from tigramite import plotting as tp\n",
        "from tigramite.pcmci import PCMCI\n",
        "from tigramite.independence_tests import ParCorr, GPDC, CMIknn, CMIsymb\n",
        "from tigramite.models import LinearMediation, Prediction"
      ]
    },
    {
      "cell_type": "markdown",
      "source": [
        "###Base de dados:"
      ],
      "metadata": {
        "id": "Pf-81LYxoXpN"
      }
    },
    {
      "cell_type": "code",
      "source": [
        "jequitinhonha = pd.read_csv(\"https://raw.githubusercontent.com/PatriciaLucas/CausalForecasting/main/Datasets/jequitinhonha.csv\")\n",
        "mucuri = pd.read_csv(\"https://raw.githubusercontent.com/PatriciaLucas/CausalForecasting/main/Datasets/mucuri.csv\")\n",
        "riodoce = pd.read_csv(\"https://raw.githubusercontent.com/PatriciaLucas/CausalForecasting/main/Datasets/riodoce.csv\")"
      ],
      "metadata": {
        "id": "HrGcC5yOGms-"
      },
      "execution_count": null,
      "outputs": []
    },
    {
      "cell_type": "markdown",
      "source": [
        "###Verifica estacionariedade nas séries:"
      ],
      "metadata": {
        "id": "EzzmulJfof-T"
      }
    },
    {
      "cell_type": "code",
      "source": [
        "def fuller(data):\n",
        "  from statsmodels.tsa.stattools import adfuller\n",
        "  X = data.values\n",
        "  result = adfuller(X) \n",
        "  if result[1] > 0.05:\n",
        "    return False\n",
        "  else:\n",
        "    return True"
      ],
      "metadata": {
        "id": "BsKDhOx1HHdC"
      },
      "execution_count": null,
      "outputs": []
    },
    {
      "cell_type": "code",
      "source": [
        "for i in range(1,9):\n",
        "  print(\"Variável: \", i, \"Estacionária: \", fuller(riodoce.iloc[:,i]))"
      ],
      "metadata": {
        "colab": {
          "base_uri": "https://localhost:8080/"
        },
        "id": "E9uoqGHxK0rG",
        "outputId": "ccba328c-e527-4267-f418-d404b3b4b0a7"
      },
      "execution_count": null,
      "outputs": [
        {
          "output_type": "stream",
          "name": "stdout",
          "text": [
            "Variável:  1 Estacionária:  True\n",
            "Variável:  2 Estacionária:  True\n",
            "Variável:  3 Estacionária:  True\n",
            "Variável:  4 Estacionária:  True\n",
            "Variável:  5 Estacionária:  True\n",
            "Variável:  6 Estacionária:  True\n",
            "Variável:  7 Estacionária:  True\n",
            "Variável:  8 Estacionária:  True\n"
          ]
        }
      ]
    },
    {
      "cell_type": "markdown",
      "source": [
        "## Geração do grafo causal com o método PCMCI"
      ],
      "metadata": {
        "id": "Q6pd5QUyouZb"
      }
    },
    {
      "cell_type": "markdown",
      "source": [
        "###Variável $ET_o$:"
      ],
      "metadata": {
        "id": "xYWR4TgbpEpC"
      }
    },
    {
      "cell_type": "code",
      "source": [
        "data = riodoce\n",
        "dataset = np.empty((11505,9))\n",
        "dataset = np.concatenate((data['T_MAX'].values.reshape((-1,1)), data['T_MIN'].values.reshape((-1,1)), data['UH'].values.reshape((-1,1)), \n",
        "                         data['V'].values.reshape((-1,1)), data['R'].values.reshape((-1,1)), data['ETO'].values.reshape((-1,1))), axis=1)\n",
        "var_names = [r'Tmax', r'Tmin', r'UR', r'V', r'R', r'Eto']\n",
        "dataframe = pp.DataFrame(dataset, datatime = {0:np.arange(len(data))}, var_names=var_names)"
      ],
      "metadata": {
        "id": "7yD81o-RM6tB"
      },
      "execution_count": null,
      "outputs": []
    },
    {
      "cell_type": "code",
      "source": [
        "parcorr = ParCorr(significance='analytic')\n",
        "pcmci = PCMCI(dataframe=dataframe, cond_ind_test=parcorr, verbosity=0)\n",
        "results = pcmci.run_pcmci(tau_max=5, pc_alpha=0.01, alpha_level=0.01)"
      ],
      "metadata": {
        "id": "UjZavg17OLXe"
      },
      "execution_count": null,
      "outputs": []
    },
    {
      "cell_type": "code",
      "source": [
        "q_matrix = pcmci.get_corrected_pvalues(p_matrix=results['p_matrix'], tau_max=5, fdr_method='fdr_bh')\n",
        "pcmci.print_significant_links(\n",
        "        p_matrix = q_matrix,\n",
        "        val_matrix = results['val_matrix'],\n",
        "        alpha_level = 0.01)\n",
        "graph = pcmci.get_graph_from_pmatrix(p_matrix=q_matrix, alpha_level=0.01, \n",
        "            tau_min=0, tau_max=5, selected_links=None)\n",
        "results['graph'] = graph"
      ],
      "metadata": {
        "colab": {
          "base_uri": "https://localhost:8080/"
        },
        "id": "Pa9sOa-VPWwX",
        "outputId": "cc57aa6e-993f-4d77-d7ca-9e9ab63aec5e"
      },
      "execution_count": null,
      "outputs": [
        {
          "output_type": "stream",
          "name": "stdout",
          "text": [
            "\n",
            "## Significant links at alpha = 0.01:\n",
            "\n",
            "    Variable Tmax has 17 link(s):\n",
            "        (Eto  0): pval = 0.00000 | val =  0.667\n",
            "        (UR  0): pval = 0.00000 | val = -0.658\n",
            "        (R  0): pval = 0.00000 | val =  0.566\n",
            "        (Tmax -1): pval = 0.00000 | val =  0.367\n",
            "        (V  0): pval = 0.00000 | val = -0.192\n",
            "        (Tmin  0): pval = 0.00000 | val =  0.147\n",
            "        (V -2): pval = 0.00000 | val =  0.098\n",
            "        (Eto -1): pval = 0.00000 | val =  0.085\n",
            "        (V -1): pval = 0.00000 | val = -0.083\n",
            "        (UR -1): pval = 0.00000 | val = -0.081\n",
            "        (Tmin -1): pval = 0.00000 | val =  0.081\n",
            "        (UR -2): pval = 0.00000 | val =  0.048\n",
            "        (Tmax -4): pval = 0.00003 | val =  0.041\n",
            "        (R -2): pval = 0.00007 | val = -0.040\n",
            "        (Tmax -2): pval = 0.00007 | val = -0.040\n",
            "        (Eto -2): pval = 0.00008 | val = -0.039\n",
            "        (UR -3): pval = 0.00798 | val = -0.027\n",
            "\n",
            "    Variable Tmin has 26 link(s):\n",
            "        (Tmin -1): pval = 0.00000 | val =  0.484\n",
            "        (Tmax -1): pval = 0.00000 | val =  0.478\n",
            "        (UR -1): pval = 0.00000 | val =  0.350\n",
            "        (UR  0): pval = 0.00000 | val =  0.232\n",
            "        (V -1): pval = 0.00000 | val = -0.193\n",
            "        (UR -2): pval = 0.00000 | val = -0.167\n",
            "        (Tmax  0): pval = 0.00000 | val =  0.147\n",
            "        (V -2): pval = 0.00000 | val =  0.119\n",
            "        (Eto -2): pval = 0.00000 | val =  0.118\n",
            "        (R  0): pval = 0.00000 | val = -0.096\n",
            "        (V -3): pval = 0.00000 | val =  0.086\n",
            "        (Tmax -2): pval = 0.00000 | val = -0.058\n",
            "        (Eto -5): pval = 0.00000 | val =  0.057\n",
            "        (UR -5): pval = 0.00000 | val = -0.053\n",
            "        (V -5): pval = 0.00000 | val =  0.049\n",
            "        (R -1): pval = 0.00000 | val = -0.048\n",
            "        (UR -3): pval = 0.00000 | val = -0.047\n",
            "        (Eto -1): pval = 0.00001 | val = -0.045\n",
            "        (Tmin -5): pval = 0.00001 | val =  0.044\n",
            "        (V -4): pval = 0.00039 | val =  0.035\n",
            "        (Tmin -3): pval = 0.00068 | val =  0.034\n",
            "        (Eto -3): pval = 0.00110 | val =  0.033\n",
            "        (Eto -4): pval = 0.00148 | val =  0.032\n",
            "        (Tmin -4): pval = 0.00165 | val =  0.032\n",
            "        (V  0): pval = 0.00084 | val =  0.031\n",
            "        (UR -4): pval = 0.00343 | val = -0.030\n",
            "\n",
            "    Variable UR has 17 link(s):\n",
            "        (Tmax  0): pval = 0.00000 | val = -0.658\n",
            "        (UR -1): pval = 0.00000 | val =  0.653\n",
            "        (Eto  0): pval = 0.00000 | val = -0.619\n",
            "        (R  0): pval = 0.00000 | val = -0.507\n",
            "        (Tmin  0): pval = 0.00000 | val =  0.232\n",
            "        (V  0): pval = 0.00000 | val =  0.073\n",
            "        (V -1): pval = 0.00000 | val = -0.071\n",
            "        (UR -2): pval = 0.00000 | val = -0.057\n",
            "        (UR -4): pval = 0.00009 | val =  0.039\n",
            "        (R -2): pval = 0.00018 | val =  0.037\n",
            "        (Tmin -3): pval = 0.00027 | val =  0.036\n",
            "        (Tmax -2): pval = 0.00057 | val =  0.034\n",
            "        (UR -3): pval = 0.00074 | val =  0.034\n",
            "        (UR -5): pval = 0.00075 | val =  0.034\n",
            "        (R -1): pval = 0.00237 | val = -0.031\n",
            "        (Eto -1): pval = 0.00576 | val = -0.028\n",
            "        (Eto -2): pval = 0.00839 | val =  0.027\n",
            "\n",
            "    Variable V has 14 link(s):\n",
            "        (V -1): pval = 0.00000 | val =  0.491\n",
            "        (R  0): pval = 0.00000 | val = -0.266\n",
            "        (Tmax  0): pval = 0.00000 | val = -0.192\n",
            "        (UR -2): pval = 0.00000 | val = -0.085\n",
            "        (UR  0): pval = 0.00000 | val =  0.073\n",
            "        (Eto  0): pval = 0.00000 | val = -0.072\n",
            "        (Tmin -1): pval = 0.00000 | val =  0.067\n",
            "        (V -3): pval = 0.00000 | val =  0.058\n",
            "        (Tmax -1): pval = 0.00000 | val =  0.052\n",
            "        (V -4): pval = 0.00002 | val =  0.042\n",
            "        (V -2): pval = 0.00011 | val = -0.038\n",
            "        (UR -1): pval = 0.00021 | val =  0.037\n",
            "        (Tmin  0): pval = 0.00084 | val =  0.031\n",
            "        (V -5): pval = 0.00659 | val =  0.028\n",
            "\n",
            "    Variable R has 19 link(s):\n",
            "        (Eto  0): pval = 0.00000 | val =  0.944\n",
            "        (Tmax  0): pval = 0.00000 | val =  0.566\n",
            "        (UR  0): pval = 0.00000 | val = -0.507\n",
            "        (V  0): pval = 0.00000 | val = -0.266\n",
            "        (UR -1): pval = 0.00000 | val = -0.138\n",
            "        (V -1): pval = 0.00000 | val = -0.120\n",
            "        (Eto -1): pval = 0.00000 | val =  0.116\n",
            "        (Tmin  0): pval = 0.00000 | val = -0.096\n",
            "        (Tmax -2): pval = 0.00000 | val = -0.089\n",
            "        (R -1): pval = 0.00000 | val =  0.085\n",
            "        (Tmax -1): pval = 0.00000 | val =  0.081\n",
            "        (Tmin -1): pval = 0.00000 | val = -0.074\n",
            "        (V -2): pval = 0.00000 | val =  0.049\n",
            "        (UR -5): pval = 0.00004 | val =  0.041\n",
            "        (Tmin -2): pval = 0.00007 | val = -0.039\n",
            "        (R -4): pval = 0.00015 | val =  0.038\n",
            "        (Tmin -3): pval = 0.00039 | val = -0.035\n",
            "        (V -3): pval = 0.00237 | val = -0.031\n",
            "        (Eto -5): pval = 0.00594 | val =  0.028\n",
            "\n",
            "    Variable Eto has 21 link(s):\n",
            "        (R  0): pval = 0.00000 | val =  0.944\n",
            "        (Tmax  0): pval = 0.00000 | val =  0.667\n",
            "        (UR  0): pval = 0.00000 | val = -0.619\n",
            "        (Eto -1): pval = 0.00000 | val =  0.327\n",
            "        (R -1): pval = 0.00000 | val = -0.151\n",
            "        (UR -1): pval = 0.00000 | val = -0.120\n",
            "        (V -1): pval = 0.00000 | val = -0.119\n",
            "        (V -2): pval = 0.00000 | val =  0.103\n",
            "        (Tmax -2): pval = 0.00000 | val = -0.082\n",
            "        (V  0): pval = 0.00000 | val = -0.072\n",
            "        (Tmax -1): pval = 0.00000 | val =  0.072\n",
            "        (Tmax -3): pval = 0.00000 | val = -0.065\n",
            "        (UR -5): pval = 0.00000 | val =  0.049\n",
            "        (Tmin -1): pval = 0.00000 | val = -0.048\n",
            "        (Eto -4): pval = 0.00000 | val =  0.046\n",
            "        (Tmin -2): pval = 0.00000 | val = -0.046\n",
            "        (UR -2): pval = 0.00001 | val =  0.043\n",
            "        (UR -3): pval = 0.00008 | val = -0.039\n",
            "        (Tmin -3): pval = 0.00010 | val = -0.039\n",
            "        (Eto -2): pval = 0.00045 | val = -0.035\n",
            "        (Eto -3): pval = 0.00934 | val =  0.027\n"
          ]
        }
      ]
    },
    {
      "cell_type": "markdown",
      "source": [
        "###Variável $T_{MAX}$, $T_{MIN}$, $UR$, $V$, $R$:"
      ],
      "metadata": {
        "id": "9a8n3n37pPZx"
      }
    },
    {
      "cell_type": "code",
      "source": [
        "data = riodoce\n",
        "dataset = np.empty((11505,9))\n",
        "dataset = np.concatenate((data['T_MAX'].values.reshape((-1,1)), data['T_MIN'].values.reshape((-1,1)), data['UH'].values.reshape((-1,1)), \n",
        "                         data['V'].values.reshape((-1,1)), data['R'].values.reshape((-1,1))), axis=1)\n",
        "var_names = [r'Tmax', r'Tmin', r'UR', r'V', r'R']\n",
        "dataframe = pp.DataFrame(dataset, datatime = {0:np.arange(len(data))}, var_names=var_names)\n",
        "\n",
        "parcorr = ParCorr(significance='analytic')\n",
        "pcmci = PCMCI(dataframe=dataframe, cond_ind_test=parcorr, verbosity=0)\n",
        "results = pcmci.run_pcmci(tau_max=5, pc_alpha=0.01, alpha_level=0.01)\n",
        "\n",
        "q_matrix = pcmci.get_corrected_pvalues(p_matrix=results['p_matrix'], tau_max=5, fdr_method='fdr_bh')\n",
        "pcmci.print_significant_links(\n",
        "        p_matrix = q_matrix,\n",
        "        val_matrix = results['val_matrix'],\n",
        "        alpha_level = 0.01)\n",
        "graph = pcmci.get_graph_from_pmatrix(p_matrix=q_matrix, alpha_level=0.01, \n",
        "            tau_min=0, tau_max=5, selected_links=None)\n",
        "results['graph'] = graph"
      ],
      "metadata": {
        "colab": {
          "base_uri": "https://localhost:8080/"
        },
        "id": "WXbh-XcipfFg",
        "outputId": "c33a3deb-2c8c-4579-a20c-d5fdbb20e747"
      },
      "execution_count": null,
      "outputs": [
        {
          "output_type": "stream",
          "name": "stdout",
          "text": [
            "\n",
            "## Significant links at alpha = 0.01:\n",
            "\n",
            "    Variable Tmax has 14 link(s):\n",
            "        (UR  0): pval = 0.00000 | val = -0.657\n",
            "        (R  0): pval = 0.00000 | val =  0.567\n",
            "        (Tmax -1): pval = 0.00000 | val =  0.397\n",
            "        (V  0): pval = 0.00000 | val = -0.191\n",
            "        (Tmin  0): pval = 0.00000 | val =  0.150\n",
            "        (V -2): pval = 0.00000 | val =  0.101\n",
            "        (UR -1): pval = 0.00000 | val = -0.091\n",
            "        (Tmin -1): pval = 0.00000 | val =  0.090\n",
            "        (R -1): pval = 0.00000 | val =  0.086\n",
            "        (V -1): pval = 0.00000 | val = -0.058\n",
            "        (UR -2): pval = 0.00000 | val =  0.046\n",
            "        (Tmax -2): pval = 0.00086 | val = -0.034\n",
            "        (R -2): pval = 0.00151 | val = -0.033\n",
            "        (Tmax -4): pval = 0.00223 | val =  0.031\n",
            "\n",
            "    Variable Tmin has 20 link(s):\n",
            "        (Tmin -1): pval = 0.00000 | val =  0.484\n",
            "        (Tmax -1): pval = 0.00000 | val =  0.475\n",
            "        (UR -1): pval = 0.00000 | val =  0.350\n",
            "        (UR  0): pval = 0.00000 | val =  0.234\n",
            "        (V -1): pval = 0.00000 | val = -0.193\n",
            "        (UR -2): pval = 0.00000 | val = -0.163\n",
            "        (Tmax  0): pval = 0.00000 | val =  0.150\n",
            "        (V -2): pval = 0.00000 | val =  0.119\n",
            "        (V -3): pval = 0.00000 | val =  0.086\n",
            "        (Tmax -2): pval = 0.00000 | val = -0.069\n",
            "        (R  0): pval = 0.00000 | val = -0.063\n",
            "        (V -5): pval = 0.00000 | val =  0.049\n",
            "        (UR -3): pval = 0.00000 | val = -0.049\n",
            "        (UR -5): pval = 0.00000 | val = -0.048\n",
            "        (Tmin -5): pval = 0.00001 | val =  0.044\n",
            "        (V -4): pval = 0.00051 | val =  0.035\n",
            "        (Tmin -3): pval = 0.00088 | val =  0.034\n",
            "        (Tmin -4): pval = 0.00211 | val =  0.032\n",
            "        (V  0): pval = 0.00084 | val =  0.031\n",
            "        (UR -4): pval = 0.00267 | val = -0.031\n",
            "\n",
            "    Variable UR has 11 link(s):\n",
            "        (Tmax  0): pval = 0.00000 | val = -0.657\n",
            "        (UR -1): pval = 0.00000 | val =  0.653\n",
            "        (R  0): pval = 0.00000 | val = -0.504\n",
            "        (Tmin  0): pval = 0.00000 | val =  0.234\n",
            "        (V  0): pval = 0.00000 | val =  0.072\n",
            "        (V -1): pval = 0.00000 | val = -0.072\n",
            "        (UR -2): pval = 0.00000 | val = -0.059\n",
            "        (R -2): pval = 0.00000 | val =  0.045\n",
            "        (Tmax -2): pval = 0.00167 | val =  0.032\n",
            "        (R -1): pval = 0.00211 | val = -0.032\n",
            "        (UR -3): pval = 0.00753 | val =  0.028\n",
            "\n",
            "    Variable V has 14 link(s):\n",
            "        (V -1): pval = 0.00000 | val =  0.491\n",
            "        (R  0): pval = 0.00000 | val = -0.251\n",
            "        (Tmax  0): pval = 0.00000 | val = -0.191\n",
            "        (UR -2): pval = 0.00000 | val = -0.082\n",
            "        (UR  0): pval = 0.00000 | val =  0.072\n",
            "        (Tmin -1): pval = 0.00000 | val =  0.067\n",
            "        (V -3): pval = 0.00000 | val =  0.058\n",
            "        (Tmax -1): pval = 0.00000 | val =  0.053\n",
            "        (V -4): pval = 0.00003 | val =  0.042\n",
            "        (V -2): pval = 0.00013 | val = -0.038\n",
            "        (Tmin  0): pval = 0.00084 | val =  0.031\n",
            "        (UR -1): pval = 0.00269 | val =  0.031\n",
            "        (R -3): pval = 0.00373 | val =  0.030\n",
            "        (V -5): pval = 0.00753 | val =  0.028\n",
            "\n",
            "    Variable R has 15 link(s):\n",
            "        (Tmax  0): pval = 0.00000 | val =  0.567\n",
            "        (R -1): pval = 0.00000 | val =  0.513\n",
            "        (UR  0): pval = 0.00000 | val = -0.504\n",
            "        (V  0): pval = 0.00000 | val = -0.251\n",
            "        (UR -1): pval = 0.00000 | val = -0.179\n",
            "        (Tmax -1): pval = 0.00000 | val =  0.127\n",
            "        (V -2): pval = 0.00000 | val =  0.117\n",
            "        (Tmin  0): pval = 0.00000 | val = -0.063\n",
            "        (R -4): pval = 0.00004 | val =  0.041\n",
            "        (Tmax -2): pval = 0.00039 | val = -0.036\n",
            "        (Tmax -3): pval = 0.00270 | val = -0.031\n",
            "        (Tmax -4): pval = 0.00373 | val = -0.030\n",
            "        (Tmin -1): pval = 0.00838 | val = -0.027\n",
            "        (Tmax -5): pval = 0.00934 | val = -0.027\n",
            "        (Tmin -5): pval = 0.00947 | val =  0.027\n"
          ]
        }
      ]
    }
  ]
}